{
 "cells": [
  {
   "cell_type": "markdown",
   "metadata": {},
   "source": [
    "# SEO Analytics Overview\n",
    "### Situation:\n",
    "We are tasked with analyzing a website that publishes blogs about data analytics tools and working mindset. The website currently suffers from data quality issues, where the data is misplaced and not in a clean format. Our objective is to clean this data and provide a cleaned CSV file output that can be further analyzed to gain insights.\n",
    "### Steps to Achieve the Objective:\n",
    "## 1. Data Collection and Initial Inspection:\n",
    "- Gather raw data from crawling the website\n",
    "- Perform inspection to identify issues such as missing values, misplaced data, and inconsistencies in formatting.\n",
    "## 2. Data Cleaning\n",
    "- Remove or Fill Missing Values: Identify and handle missing values appropriately.\n",
    "- Correct Misplaced Data: Adjust any data that is not in the correct format or column.\n",
    "- Standardize Formats: Ensure consistent data formats (e.g., date formats, text casing).\n",
    "## 3. Export Cleaned Data:\n",
    "\n",
    "Save the cleaned and structured data into a CSV file for further analysis."
   ]
  },
  {
   "cell_type": "code",
   "execution_count": 75,
   "metadata": {},
   "outputs": [
    {
     "name": "stderr",
     "output_type": "stream",
     "text": [
      "c:\\Users\\hamy\\anaconda3\\lib\\site-packages\\IPython\\core\\interactiveshell.py:3444: DtypeWarning: Columns (0,10,17,18,19) have mixed types.Specify dtype option on import or set low_memory=False.\n",
      "  exec(code_obj, self.user_global_ns, self.user_ns)\n"
     ]
    }
   ],
   "source": [
    "import pandas as pd\n",
    "import numpy as np\n",
    "import re\n",
    "import os\n",
    "pd.set_option('display.max_columns', None)\n",
    "pd.set_option('display.max_rows', 30)\n",
    "#show all files available in Raw_data\n",
    "path = 'F:/study_data/Diagnostic-task5/Raw_data/'\n",
    "dfs = os.listdir(path)\n",
    "df_og = pd.DataFrame()\n",
    "for name in dfs:\n",
    "    df_temp = pd.read_csv(path +name)\n",
    "    df_og = pd.concat([df_og,df_temp])\n",
    "\n",
    "del df_temp\n",
    "del dfs\n",
    "df_og = df_og.reset_index()\n",
    "df = df_og.copy()"
   ]
  },
  {
   "cell_type": "code",
   "execution_count": 111,
   "metadata": {},
   "outputs": [
    {
     "name": "stdout",
     "output_type": "stream",
     "text": [
      "<class 'pandas.core.frame.DataFrame'>\n",
      "RangeIndex: 94080 entries, 0 to 94079\n",
      "Data columns (total 21 columns):\n",
      " #   Column         Non-Null Count  Dtype  \n",
      "---  ------         --------------  -----  \n",
      " 0   index          94080 non-null  int64  \n",
      " 1   Email          38554 non-null  object \n",
      " 2   Type           94080 non-null  object \n",
      " 3   Name           85229 non-null  object \n",
      " 4   Title          80864 non-null  object \n",
      " 5   MA URL         79881 non-null  object \n",
      " 6   MA Referrer    61136 non-null  object \n",
      " 7   ma_path        79837 non-null  object \n",
      " 8   IP Address     80364 non-null  object \n",
      " 9   cuid           61617 non-null  object \n",
      " 10  Date           69832 non-null  object \n",
      " 11  Message Id     5562 non-null   object \n",
      " 12  Template Id    1473 non-null   object \n",
      " 13  List Id        4628 non-null   float64\n",
      " 14  Form Id        0 non-null      float64\n",
      " 15  Campaign Id    0 non-null      float64\n",
      " 16  Campaign Name  0 non-null      float64\n",
      " 17  Scenario Id    4024 non-null   float64\n",
      " 18  URL            937 non-null    object \n",
      " 19  Link           1022 non-null   object \n",
      " 20  Tag            4347 non-null   object \n",
      "dtypes: float64(5), int64(1), object(15)\n",
      "memory usage: 15.1+ MB\n"
     ]
    }
   ],
   "source": [
    "df_og.info()"
   ]
  },
  {
   "cell_type": "markdown",
   "metadata": {},
   "source": [
    "\n",
    "Let's clean the data. First, we are going to start with the null values in each columns.\\\n",
    "Only the Type column doesn't having missing values, while all the other columns has missing values."
   ]
  },
  {
   "cell_type": "markdown",
   "metadata": {},
   "source": [
    "## Cleaning Email column"
   ]
  },
  {
   "cell_type": "markdown",
   "metadata": {},
   "source": [
    "Find out wrong format emails, delete the ones with wrong format and fix the ones with typo"
   ]
  },
  {
   "cell_type": "code",
   "execution_count": 113,
   "metadata": {},
   "outputs": [
    {
     "data": {
      "text/plain": [
       "array(['anh@nguyenngoc.2611', 'anhmiu2000@gmail.cm',\n",
       "       'baothoa.hvtc.63@gmail.con', 'dangthuyhang1201@gmail.con',\n",
       "       'hu.nguyen.21@saigontech.net', 'huongtran562005@gmail.con',\n",
       "       'jannguyen1607@gmail.con', 'toyen301099@gmail.con',\n",
       "       'tranlamnhatmai@gmail.con', 'yenhoangxuan1809@gmail.co',\n",
       "       'toyen301099@gmail.con', 'tranlamnhatmai@gmail.con',\n",
       "       'jannguyen1607@gmail.con', 'huongtran562005@gmail.con',\n",
       "       'hu.nguyen.21@saigontech.net', 'dangthuyhang1201@gmail.con',\n",
       "       'baothoa.hvtc.63@gmail.con', 'anhmiu2000@gmail.cm',\n",
       "       'anh@nguyenngoc.2611', 'yenhoangxuan1809@gmail.co',\n",
       "       'toyen301099@gmail.con', 'tranlamnhatmai@gmail.con',\n",
       "       'jannguyen1607@gmail.con', 'huongtran562005@gmail.con',\n",
       "       'hu.nguyen.21@saigontech.net', 'dangthuyhang1201@gmail.con',\n",
       "       'baothoa.hvtc.63@gmail.con', 'anhmiu2000@gmail.cm',\n",
       "       'anh@nguyenngoc.2611'], dtype=object)"
      ]
     },
     "execution_count": 113,
     "metadata": {},
     "output_type": "execute_result"
    }
   ],
   "source": [
    "df[df['Email'].str.split('.').str[-1].isin(['2611', 'cm', 'con', 'net', 'co'])]['Email'].values\n",
    "#drop the ones ending with 2611, replace all emails ending with cm, con, co to com. retain the ones ending with net"
   ]
  },
  {
   "cell_type": "code",
   "execution_count": 78,
   "metadata": {},
   "outputs": [],
   "source": [
    "def correct_email_endings(email):\n",
    "    if isinstance(email, str):\n",
    "        email = re.sub(r'\\.cm$', '.com', email)\n",
    "        email = re.sub(r'\\.con$', '.com', email)\n",
    "        email = re.sub(r'\\.co$', '.com', email)\n",
    "        return email\n",
    "    return email\n",
    "\n",
    "# Apply function to email column\n",
    "df['Email_cleaned'] = df['Email'].apply(correct_email_endings)\n",
    "\n",
    "# Function to delete emails ending with '2611'\n",
    "def delete_specific_emails(email):\n",
    "    if isinstance(email, str) and email.endswith('2611'):\n",
    "        return np.nan\n",
    "    return email\n",
    "\n",
    "# Apply function to email column\n",
    "df['Email_cleaned'] = df['Email_cleaned'].apply(delete_specific_emails)"
   ]
  },
  {
   "cell_type": "code",
   "execution_count": 79,
   "metadata": {},
   "outputs": [
    {
     "data": {
      "text/plain": [
       "array(['com', 'vn', 'net'], dtype=object)"
      ]
     },
     "execution_count": 79,
     "metadata": {},
     "output_type": "execute_result"
    }
   ],
   "source": [
    "df['Email_cleaned'].str.split('.').str[-1].dropna().unique()"
   ]
  },
  {
   "cell_type": "code",
   "execution_count": 116,
   "metadata": {},
   "outputs": [
    {
     "name": "stdout",
     "output_type": "stream",
     "text": [
      "IP Address  has some email address\n"
     ]
    }
   ],
   "source": [
    "def contains_specific_domains(s):\n",
    "    if isinstance(s, str):\n",
    "        return bool(re.search(r'@[a-zA-Z0-9_.]+\\.(com|vn|net)$', s))\n",
    "    return False\n",
    "# Iterate over all columns except 'email'\n",
    "for col in df.columns:\n",
    "    if (col != 'Email') & (col != 'Email_cleaned'):\n",
    "        mask = df['Email_cleaned'].isnull() & df[col].apply(contains_specific_domains)\n",
    "        \n",
    "        # Replace null values in Email column with the values from the current column\n",
    "        df.loc[mask, 'Email_cleaned'] = df.loc[mask, col]\n",
    "        if len(df.loc[mask])>0:\n",
    "            print(col, \" has some email address\")\n"
   ]
  },
  {
   "cell_type": "markdown",
   "metadata": {},
   "source": [
    "We managed to retrieve stray Email address from the IP Address column. For the other emails that are missing, it is possible that the user is not logged in so we can't know their email address and not because there's data error."
   ]
  },
  {
   "cell_type": "markdown",
   "metadata": {},
   "source": [
    "## Cleaning IP Address"
   ]
  },
  {
   "cell_type": "markdown",
   "metadata": {},
   "source": [
    "Like in the email column, IP Address may have values from other columns that was wrongly categorized as IP address, as well as stray values that got mistakenly put into other columns as well. We are going to investigate IP Address column to see which values was wrongly categorized as well as take back IP address values from other columns"
   ]
  },
  {
   "cell_type": "code",
   "execution_count": 118,
   "metadata": {},
   "outputs": [],
   "source": [
    "def is_valid_ip(s):\n",
    "    if isinstance(s, str):\n",
    "        return bool(re.match(r'^\\d{1,3}\\.\\d{1,3}\\.\\d{1,3}\\.\\d{1,3}$', s))\n",
    "    return False\n",
    "\n",
    "# Apply function to ip_address column to delete invalid IP addresses\n",
    "df['ip_address_cleaned'] = df['IP Address'].apply(lambda x: x if is_valid_ip(x) else np.nan)\n"
   ]
  },
  {
   "cell_type": "code",
   "execution_count": 119,
   "metadata": {},
   "outputs": [
    {
     "name": "stdout",
     "output_type": "stream",
     "text": [
      "cuid  has some IP address\n",
      "Date  has some IP address\n"
     ]
    }
   ],
   "source": [
    "def is_valid_ip(s):\n",
    "    if isinstance(s, str):\n",
    "        return bool(re.match(r'^\\d{1,3}\\.\\d{1,3}\\.\\d{1,3}\\.\\d{1,3}$', s))\n",
    "    return False\n",
    "# Iterate over all columns except 'email'\n",
    "for col in df.columns:\n",
    "    if (col != 'IP Address') & (col != 'ip_address_cleaned'):\n",
    "        mask = df['ip_address_cleaned'].isnull() & df[col].apply(is_valid_ip)\n",
    "        \n",
    "        # Replace null values in Email column with the values from the current column\n",
    "        df.loc[mask, 'ip_address_cleaned'] = df.loc[mask, col]\n",
    "        if len(df.loc[mask])>0:\n",
    "            print(col, \" has some IP address\")\n",
    "\n",
    "\n"
   ]
  },
  {
   "cell_type": "markdown",
   "metadata": {},
   "source": [
    "## Cleaning Date"
   ]
  },
  {
   "cell_type": "code",
   "execution_count": 13,
   "metadata": {},
   "outputs": [
    {
     "data": {
      "text/plain": [
       "0        14-08-2021 16:56:41\n",
       "1        14-08-2021 12:56:00\n",
       "2        14-08-2021 12:55:56\n",
       "3        14-08-2021 12:55:56\n",
       "4        18-08-2021 16:14:06\n",
       "                ...         \n",
       "94075         12/8/2021 0:09\n",
       "94076         12/8/2021 0:08\n",
       "94077         12/8/2021 0:08\n",
       "94078         12/8/2021 0:06\n",
       "94079         12/8/2021 0:06\n",
       "Name: Date, Length: 94080, dtype: object"
      ]
     },
     "execution_count": 13,
     "metadata": {},
     "output_type": "execute_result"
    }
   ],
   "source": [
    "df['Date']"
   ]
  },
  {
   "cell_type": "code",
   "execution_count": 120,
   "metadata": {},
   "outputs": [],
   "source": [
    "df['date_column_cleaned'] = pd.to_datetime(df['Date'], errors='coerce')\n",
    "\n",
    "# Identify rows where conversion failed (i.e., the value is NaT in the converted column)\n",
    "peculiar_values = df[df['date_column_cleaned'].isna()]['Date']\n",
    "peculiar_values=peculiar_values.dropna()"
   ]
  },
  {
   "cell_type": "code",
   "execution_count": 121,
   "metadata": {},
   "outputs": [
    {
     "data": {
      "text/plain": [
       "array([ 2, 36, 13, 10, 14, 12, 15, 11], dtype=int64)"
      ]
     },
     "execution_count": 121,
     "metadata": {},
     "output_type": "execute_result"
    }
   ],
   "source": [
    "peculiar_values.astype(str).apply(lambda x:len(x)).unique()"
   ]
  },
  {
   "cell_type": "code",
   "execution_count": 122,
   "metadata": {},
   "outputs": [
    {
     "data": {
      "text/plain": [
       "0       2021-08-14 16:56:41\n",
       "1       2021-08-14 12:56:00\n",
       "2       2021-08-14 12:55:56\n",
       "3       2021-08-14 12:55:56\n",
       "4       2021-08-18 16:14:06\n",
       "                ...        \n",
       "94075   2021-12-08 00:09:00\n",
       "94076   2021-12-08 00:08:00\n",
       "94077   2021-12-08 00:08:00\n",
       "94078   2021-12-08 00:06:00\n",
       "94079   2021-12-08 00:06:00\n",
       "Name: date_column_cleaned, Length: 94080, dtype: datetime64[ns]"
      ]
     },
     "execution_count": 122,
     "metadata": {},
     "output_type": "execute_result"
    }
   ],
   "source": [
    "df['date_column_cleaned']"
   ]
  },
  {
   "cell_type": "markdown",
   "metadata": {},
   "source": [
    "Looks like the peculiar values contains the cuid and some integers.\n",
    "\n",
    "Let's find out if their are dates that got mixed up inside other columns. \n",
    "\n",
    "We know that a date "
   ]
  },
  {
   "cell_type": "code",
   "execution_count": 123,
   "metadata": {},
   "outputs": [
    {
     "name": "stdout",
     "output_type": "stream",
     "text": [
      "IP Address  has some Date\n",
      "cuid  has some Date\n",
      "Message Id  has some Date\n",
      "Template Id  has some Date\n"
     ]
    }
   ],
   "source": [
    "date_patterns = [\n",
    "    re.compile(r'\\d{2}-\\d{2}-\\d{4} \\d{2}:\\d{2}:\\d{2}'),  # 18-08-2021 16:14:06\n",
    "    re.compile(r'\\d{1,2}/\\d{1,2}/\\d{4} \\d{1,2}:\\d{2}')   # 12/8/2021 0:06\n",
    "]\n",
    "\n",
    "def contains_date(s):\n",
    "    if isinstance(s, str):\n",
    "        for pattern in date_patterns:\n",
    "            if pattern.search(s):\n",
    "                return True\n",
    "    return False\n",
    "\n",
    "for col in df.columns:\n",
    "    if (col != 'Date') & (col != 'date_column_cleaned'):\n",
    "        mask = df['date_column_cleaned'].isnull() & df[col].apply(contains_date)\n",
    "        \n",
    "        # Replace null values in Email column with the values from the current column\n",
    "        df.loc[mask, 'date_column_cleaned'] = df.loc[mask, col]\n",
    "        if len(df.loc[mask])>0:\n",
    "            print(col, \" has some Date\")"
   ]
  },
  {
   "cell_type": "code",
   "execution_count": 124,
   "metadata": {},
   "outputs": [],
   "source": [
    "df['date_column_cleaned'] = pd.to_datetime(df['date_column_cleaned'])"
   ]
  },
  {
   "cell_type": "markdown",
   "metadata": {},
   "source": [
    "### CUID"
   ]
  },
  {
   "cell_type": "code",
   "execution_count": 125,
   "metadata": {},
   "outputs": [],
   "source": [
    "def is_valid_cuid(s):\n",
    "    if isinstance(s, str):\n",
    "        return bool(re.match(r'\\b[0-9a-fA-F]{8}-[0-9a-fA-F]{4}-[0-9a-fA-F]{4}-[0-9a-fA-F]{4}-[0-9a-fA-F]{12}\\b', s))\n",
    "    return False\n",
    "\n",
    "# Apply function to ip_address column to delete invalid IP addresses\n",
    "df['cuid_cleaned'] = df['cuid'].apply(lambda x: x if is_valid_cuid(x) else np.nan)\n"
   ]
  },
  {
   "cell_type": "code",
   "execution_count": 126,
   "metadata": {},
   "outputs": [
    {
     "name": "stdout",
     "output_type": "stream",
     "text": [
      "Date  has some cuid\n",
      "Message Id  has some cuid\n"
     ]
    }
   ],
   "source": [
    "\n",
    "# Iterate over all columns except 'email'\n",
    "for col in df.columns:\n",
    "    if (col != 'cuid') & (col != 'cuid_cleaned'):\n",
    "        # Identify rows where Email is null and the current column contains '@'\n",
    "        mask = df['cuid_cleaned'].isnull() & df[col].apply(is_valid_cuid)\n",
    "        \n",
    "        # Replace null values in Email column with the values from the current column\n",
    "        df.loc[mask, 'cuid_cleaned'] = df.loc[mask, col]\n",
    "        if len(df.loc[mask])>0:\n",
    "            print(col, \" has some cuid\")\n",
    "\n",
    "\n"
   ]
  },
  {
   "cell_type": "code",
   "execution_count": 127,
   "metadata": {},
   "outputs": [
    {
     "data": {
      "text/plain": [
       "array([36], dtype=int64)"
      ]
     },
     "execution_count": 127,
     "metadata": {},
     "output_type": "execute_result"
    }
   ],
   "source": [
    "df['cuid_cleaned'].dropna().apply(lambda x:len(x)).unique()"
   ]
  },
  {
   "cell_type": "code",
   "execution_count": 24,
   "metadata": {},
   "outputs": [
    {
     "data": {
      "text/html": [
       "<div>\n",
       "<style scoped>\n",
       "    .dataframe tbody tr th:only-of-type {\n",
       "        vertical-align: middle;\n",
       "    }\n",
       "\n",
       "    .dataframe tbody tr th {\n",
       "        vertical-align: top;\n",
       "    }\n",
       "\n",
       "    .dataframe thead th {\n",
       "        text-align: right;\n",
       "    }\n",
       "</style>\n",
       "<table border=\"1\" class=\"dataframe\">\n",
       "  <thead>\n",
       "    <tr style=\"text-align: right;\">\n",
       "      <th></th>\n",
       "      <th>index</th>\n",
       "      <th>Email</th>\n",
       "      <th>Type</th>\n",
       "      <th>Name</th>\n",
       "      <th>Title</th>\n",
       "      <th>MA URL</th>\n",
       "      <th>MA Referrer</th>\n",
       "      <th>ma_path</th>\n",
       "      <th>IP Address</th>\n",
       "      <th>cuid</th>\n",
       "      <th>Date</th>\n",
       "      <th>Message Id</th>\n",
       "      <th>Template Id</th>\n",
       "      <th>List Id</th>\n",
       "      <th>Form Id</th>\n",
       "      <th>Campaign Id</th>\n",
       "      <th>Campaign Name</th>\n",
       "      <th>Scenario Id</th>\n",
       "      <th>URL</th>\n",
       "      <th>Link</th>\n",
       "      <th>Tag</th>\n",
       "      <th>Email_cleaned</th>\n",
       "      <th>ip_address_cleaned</th>\n",
       "      <th>date_column_cleaned</th>\n",
       "      <th>cuid_cleaned</th>\n",
       "    </tr>\n",
       "  </thead>\n",
       "  <tbody>\n",
       "    <tr>\n",
       "      <th>0</th>\n",
       "      <td>0</td>\n",
       "      <td>01202743441vy@gmail.com</td>\n",
       "      <td>templates_open</td>\n",
       "      <td>young-talent-reactivate</td>\n",
       "      <td>NaN</td>\n",
       "      <td>NaN</td>\n",
       "      <td>NaN</td>\n",
       "      <td>NaN</td>\n",
       "      <td>01202743441vy@gmail.com</td>\n",
       "      <td>NaN</td>\n",
       "      <td>14-08-2021 16:56:41</td>\n",
       "      <td>&lt;202108140556.49300678081@smtp-relay.mailin.fr&gt;</td>\n",
       "      <td>26.0</td>\n",
       "      <td>NaN</td>\n",
       "      <td>NaN</td>\n",
       "      <td>NaN</td>\n",
       "      <td>NaN</td>\n",
       "      <td>NaN</td>\n",
       "      <td>NaN</td>\n",
       "      <td>NaN</td>\n",
       "      <td>[\"young-talent-reactivate\"]</td>\n",
       "      <td>01202743441vy@gmail.com</td>\n",
       "      <td>NaN</td>\n",
       "      <td>2021-08-14 16:56:41</td>\n",
       "      <td>NaN</td>\n",
       "    </tr>\n",
       "    <tr>\n",
       "      <th>1</th>\n",
       "      <td>1</td>\n",
       "      <td>01202743441vy@gmail.com</td>\n",
       "      <td>list_addition</td>\n",
       "      <td>NaN</td>\n",
       "      <td>NaN</td>\n",
       "      <td>NaN</td>\n",
       "      <td>NaN</td>\n",
       "      <td>NaN</td>\n",
       "      <td>01202743441vy@gmail.com</td>\n",
       "      <td>NaN</td>\n",
       "      <td>14-08-2021 12:56:00</td>\n",
       "      <td>NaN</td>\n",
       "      <td>NaN</td>\n",
       "      <td>40.0</td>\n",
       "      <td>NaN</td>\n",
       "      <td>NaN</td>\n",
       "      <td>NaN</td>\n",
       "      <td>9.0</td>\n",
       "      <td>NaN</td>\n",
       "      <td>NaN</td>\n",
       "      <td>NaN</td>\n",
       "      <td>01202743441vy@gmail.com</td>\n",
       "      <td>NaN</td>\n",
       "      <td>2021-08-14 12:56:00</td>\n",
       "      <td>NaN</td>\n",
       "    </tr>\n",
       "    <tr>\n",
       "      <th>2</th>\n",
       "      <td>2</td>\n",
       "      <td>030234180031@st.buh.edu.vn</td>\n",
       "      <td>list_addition</td>\n",
       "      <td>NaN</td>\n",
       "      <td>NaN</td>\n",
       "      <td>NaN</td>\n",
       "      <td>NaN</td>\n",
       "      <td>NaN</td>\n",
       "      <td>030234180031@st.buh.edu.vn</td>\n",
       "      <td>NaN</td>\n",
       "      <td>14-08-2021 12:55:56</td>\n",
       "      <td>NaN</td>\n",
       "      <td>NaN</td>\n",
       "      <td>40.0</td>\n",
       "      <td>NaN</td>\n",
       "      <td>NaN</td>\n",
       "      <td>NaN</td>\n",
       "      <td>9.0</td>\n",
       "      <td>NaN</td>\n",
       "      <td>NaN</td>\n",
       "      <td>NaN</td>\n",
       "      <td>030234180031@st.buh.edu.vn</td>\n",
       "      <td>NaN</td>\n",
       "      <td>2021-08-14 12:55:56</td>\n",
       "      <td>NaN</td>\n",
       "    </tr>\n",
       "    <tr>\n",
       "      <th>3</th>\n",
       "      <td>3</td>\n",
       "      <td>030235190162@st.buh.edu.vn</td>\n",
       "      <td>list_addition</td>\n",
       "      <td>NaN</td>\n",
       "      <td>NaN</td>\n",
       "      <td>NaN</td>\n",
       "      <td>NaN</td>\n",
       "      <td>NaN</td>\n",
       "      <td>030235190162@st.buh.edu.vn</td>\n",
       "      <td>NaN</td>\n",
       "      <td>14-08-2021 12:55:56</td>\n",
       "      <td>NaN</td>\n",
       "      <td>NaN</td>\n",
       "      <td>40.0</td>\n",
       "      <td>NaN</td>\n",
       "      <td>NaN</td>\n",
       "      <td>NaN</td>\n",
       "      <td>9.0</td>\n",
       "      <td>NaN</td>\n",
       "      <td>NaN</td>\n",
       "      <td>NaN</td>\n",
       "      <td>030235190162@st.buh.edu.vn</td>\n",
       "      <td>NaN</td>\n",
       "      <td>2021-08-14 12:55:56</td>\n",
       "      <td>NaN</td>\n",
       "    </tr>\n",
       "    <tr>\n",
       "      <th>4</th>\n",
       "      <td>4</td>\n",
       "      <td>030334180112@st.buh.edu.vn</td>\n",
       "      <td>page</td>\n",
       "      <td>KHÓA HỌC YOUNG TALENT</td>\n",
       "      <td>KHÓA HỌC YOUNG TALENT</td>\n",
       "      <td>https://uniace.vn/product/young-talent/</td>\n",
       "      <td>NaN</td>\n",
       "      <td>/product/young-talent/</td>\n",
       "      <td>030334180112@st.buh.edu.vn</td>\n",
       "      <td>13339736-d7ae-47a9-83bc-bf0f2969091e</td>\n",
       "      <td>18-08-2021 16:14:06</td>\n",
       "      <td>NaN</td>\n",
       "      <td>NaN</td>\n",
       "      <td>NaN</td>\n",
       "      <td>NaN</td>\n",
       "      <td>NaN</td>\n",
       "      <td>NaN</td>\n",
       "      <td>NaN</td>\n",
       "      <td>NaN</td>\n",
       "      <td>NaN</td>\n",
       "      <td>NaN</td>\n",
       "      <td>030334180112@st.buh.edu.vn</td>\n",
       "      <td>NaN</td>\n",
       "      <td>2021-08-18 16:14:06</td>\n",
       "      <td>13339736-d7ae-47a9-83bc-bf0f2969091e</td>\n",
       "    </tr>\n",
       "  </tbody>\n",
       "</table>\n",
       "</div>"
      ],
      "text/plain": [
       "   index                       Email            Type                     Name  \\\n",
       "0      0     01202743441vy@gmail.com  templates_open  young-talent-reactivate   \n",
       "1      1     01202743441vy@gmail.com   list_addition                      NaN   \n",
       "2      2  030234180031@st.buh.edu.vn   list_addition                      NaN   \n",
       "3      3  030235190162@st.buh.edu.vn   list_addition                      NaN   \n",
       "4      4  030334180112@st.buh.edu.vn            page    KHÓA HỌC YOUNG TALENT   \n",
       "\n",
       "                   Title                                   MA URL MA Referrer  \\\n",
       "0                    NaN                                      NaN         NaN   \n",
       "1                    NaN                                      NaN         NaN   \n",
       "2                    NaN                                      NaN         NaN   \n",
       "3                    NaN                                      NaN         NaN   \n",
       "4  KHÓA HỌC YOUNG TALENT  https://uniace.vn/product/young-talent/         NaN   \n",
       "\n",
       "                  ma_path                  IP Address  \\\n",
       "0                     NaN     01202743441vy@gmail.com   \n",
       "1                     NaN     01202743441vy@gmail.com   \n",
       "2                     NaN  030234180031@st.buh.edu.vn   \n",
       "3                     NaN  030235190162@st.buh.edu.vn   \n",
       "4  /product/young-talent/  030334180112@st.buh.edu.vn   \n",
       "\n",
       "                                   cuid                 Date  \\\n",
       "0                                   NaN  14-08-2021 16:56:41   \n",
       "1                                   NaN  14-08-2021 12:56:00   \n",
       "2                                   NaN  14-08-2021 12:55:56   \n",
       "3                                   NaN  14-08-2021 12:55:56   \n",
       "4  13339736-d7ae-47a9-83bc-bf0f2969091e  18-08-2021 16:14:06   \n",
       "\n",
       "                                        Message Id Template Id  List Id  \\\n",
       "0  <202108140556.49300678081@smtp-relay.mailin.fr>        26.0      NaN   \n",
       "1                                              NaN         NaN     40.0   \n",
       "2                                              NaN         NaN     40.0   \n",
       "3                                              NaN         NaN     40.0   \n",
       "4                                              NaN         NaN      NaN   \n",
       "\n",
       "   Form Id  Campaign Id  Campaign Name  Scenario Id  URL Link  \\\n",
       "0      NaN          NaN            NaN          NaN  NaN  NaN   \n",
       "1      NaN          NaN            NaN          9.0  NaN  NaN   \n",
       "2      NaN          NaN            NaN          9.0  NaN  NaN   \n",
       "3      NaN          NaN            NaN          9.0  NaN  NaN   \n",
       "4      NaN          NaN            NaN          NaN  NaN  NaN   \n",
       "\n",
       "                           Tag               Email_cleaned ip_address_cleaned  \\\n",
       "0  [\"young-talent-reactivate\"]     01202743441vy@gmail.com                NaN   \n",
       "1                          NaN     01202743441vy@gmail.com                NaN   \n",
       "2                          NaN  030234180031@st.buh.edu.vn                NaN   \n",
       "3                          NaN  030235190162@st.buh.edu.vn                NaN   \n",
       "4                          NaN  030334180112@st.buh.edu.vn                NaN   \n",
       "\n",
       "  date_column_cleaned                          cuid_cleaned  \n",
       "0 2021-08-14 16:56:41                                   NaN  \n",
       "1 2021-08-14 12:56:00                                   NaN  \n",
       "2 2021-08-14 12:55:56                                   NaN  \n",
       "3 2021-08-14 12:55:56                                   NaN  \n",
       "4 2021-08-18 16:14:06  13339736-d7ae-47a9-83bc-bf0f2969091e  "
      ]
     },
     "execution_count": 24,
     "metadata": {},
     "output_type": "execute_result"
    }
   ],
   "source": [
    "df.head()"
   ]
  },
  {
   "cell_type": "code",
   "execution_count": 128,
   "metadata": {},
   "outputs": [],
   "source": [
    "df.to_csv('F:/study_data/Diagnostic-task5/uniace_og.csv')"
   ]
  },
  {
   "cell_type": "code",
   "execution_count": 151,
   "metadata": {},
   "outputs": [
    {
     "name": "stderr",
     "output_type": "stream",
     "text": [
      "c:\\Users\\hamy\\anaconda3\\lib\\site-packages\\IPython\\core\\interactiveshell.py:3444: DtypeWarning: Columns (13) have mixed types.Specify dtype option on import or set low_memory=False.\n",
      "  exec(code_obj, self.user_global_ns, self.user_ns)\n"
     ]
    }
   ],
   "source": [
    "df= pd.read_csv('F:/study_data/Diagnostic-task5/uniace_og.csv',index_col =0)\n"
   ]
  },
  {
   "cell_type": "markdown",
   "metadata": {},
   "source": [
    "## Identify the emails that are from students"
   ]
  },
  {
   "cell_type": "code",
   "execution_count": 152,
   "metadata": {},
   "outputs": [],
   "source": [
    "df['email_suffix'] = df['Email_cleaned'].str.split('@').str[1]\n",
    "df['email_prefix'] = df['Email_cleaned'].str.split('@').str[0]"
   ]
  },
  {
   "cell_type": "code",
   "execution_count": 153,
   "metadata": {},
   "outputs": [],
   "source": [
    "df['is_schoolmail'] = df['email_suffix'].apply(lambda x: 1 if (isinstance(x,str) and (\n",
    "                                                                                      ('.edu' in x) \n",
    "                                                                                      or ('udn' in x) \n",
    "                                                                                      or ('vanlanguni' in x))) \n",
    "                                                                                      else 0\n",
    "                                                                                      )"
   ]
  },
  {
   "cell_type": "markdown",
   "metadata": {},
   "source": [
    "Get schools that the user goes to based on email"
   ]
  },
  {
   "cell_type": "code",
   "execution_count": 154,
   "metadata": {},
   "outputs": [],
   "source": [
    "df['school'] = np.where((df['is_schoolmail']==1) & (df['email_suffix']).str.contains('.edu'),\n",
    "                        df['email_suffix'].str.split('.edu').str[0].str.split('.').str[-1], \n",
    "                        np.where((df['is_schoolmail']==1) & (df['email_suffix'].str.contains('vanlanguni')),\n",
    "                                 'vanlang',\n",
    "                                 np.where((df['is_schoolmail']==1) & (df['email_suffix'].str.contains('udn')),\n",
    "                                                    df['email_suffix'].str.split('.udn').str[0].str.split('.').str[-1],\n",
    "                                                    np.NaN)))"
   ]
  },
  {
   "cell_type": "markdown",
   "metadata": {},
   "source": [
    "## Get product category"
   ]
  },
  {
   "cell_type": "code",
   "execution_count": 63,
   "metadata": {},
   "outputs": [],
   "source": [
    "df['product_cat'] = df['MA URL'].str.split('product-category').str[1].str.strip('/')"
   ]
  },
  {
   "cell_type": "code",
   "execution_count": 71,
   "metadata": {},
   "outputs": [
    {
     "data": {
      "text/html": [
       "<div>\n",
       "<style scoped>\n",
       "    .dataframe tbody tr th:only-of-type {\n",
       "        vertical-align: middle;\n",
       "    }\n",
       "\n",
       "    .dataframe tbody tr th {\n",
       "        vertical-align: top;\n",
       "    }\n",
       "\n",
       "    .dataframe thead th {\n",
       "        text-align: right;\n",
       "    }\n",
       "</style>\n",
       "<table border=\"1\" class=\"dataframe\">\n",
       "  <thead>\n",
       "    <tr style=\"text-align: right;\">\n",
       "      <th></th>\n",
       "      <th>date_column_cleaned</th>\n",
       "      <th>product_cat</th>\n",
       "      <th>product</th>\n",
       "    </tr>\n",
       "  </thead>\n",
       "  <tbody>\n",
       "    <tr>\n",
       "      <th>0</th>\n",
       "      <td>2021-01-08 02:18:00</td>\n",
       "      <td>all-level</td>\n",
       "      <td>1</td>\n",
       "    </tr>\n",
       "    <tr>\n",
       "      <th>1</th>\n",
       "      <td>2021-01-08 08:36:00</td>\n",
       "      <td>all-level</td>\n",
       "      <td>1</td>\n",
       "    </tr>\n",
       "    <tr>\n",
       "      <th>2</th>\n",
       "      <td>2021-01-08 12:45:00</td>\n",
       "      <td>mindset</td>\n",
       "      <td>1</td>\n",
       "    </tr>\n",
       "    <tr>\n",
       "      <th>3</th>\n",
       "      <td>2021-01-08 16:07:00</td>\n",
       "      <td>all-level</td>\n",
       "      <td>1</td>\n",
       "    </tr>\n",
       "    <tr>\n",
       "      <th>4</th>\n",
       "      <td>2021-01-08 16:07:00</td>\n",
       "      <td>power-query</td>\n",
       "      <td>1</td>\n",
       "    </tr>\n",
       "    <tr>\n",
       "      <th>...</th>\n",
       "      <td>...</td>\n",
       "      <td>...</td>\n",
       "      <td>...</td>\n",
       "    </tr>\n",
       "    <tr>\n",
       "      <th>1578</th>\n",
       "      <td>2021-12-08 23:04:00</td>\n",
       "      <td>career-coach</td>\n",
       "      <td>3</td>\n",
       "    </tr>\n",
       "    <tr>\n",
       "      <th>1579</th>\n",
       "      <td>2021-12-08 23:04:00</td>\n",
       "      <td>khac</td>\n",
       "      <td>3</td>\n",
       "    </tr>\n",
       "    <tr>\n",
       "      <th>1580</th>\n",
       "      <td>2021-12-08 23:14:00</td>\n",
       "      <td>programing-language</td>\n",
       "      <td>3</td>\n",
       "    </tr>\n",
       "    <tr>\n",
       "      <th>1581</th>\n",
       "      <td>2021-12-08 23:25:00</td>\n",
       "      <td>mindset</td>\n",
       "      <td>3</td>\n",
       "    </tr>\n",
       "    <tr>\n",
       "      <th>1582</th>\n",
       "      <td>2021-12-08 23:50:00</td>\n",
       "      <td>khac</td>\n",
       "      <td>3</td>\n",
       "    </tr>\n",
       "  </tbody>\n",
       "</table>\n",
       "<p>1583 rows × 3 columns</p>\n",
       "</div>"
      ],
      "text/plain": [
       "      date_column_cleaned          product_cat  product\n",
       "0     2021-01-08 02:18:00            all-level        1\n",
       "1     2021-01-08 08:36:00            all-level        1\n",
       "2     2021-01-08 12:45:00              mindset        1\n",
       "3     2021-01-08 16:07:00            all-level        1\n",
       "4     2021-01-08 16:07:00          power-query        1\n",
       "...                   ...                  ...      ...\n",
       "1578  2021-12-08 23:04:00         career-coach        3\n",
       "1579  2021-12-08 23:04:00                 khac        3\n",
       "1580  2021-12-08 23:14:00  programing-language        3\n",
       "1581  2021-12-08 23:25:00              mindset        3\n",
       "1582  2021-12-08 23:50:00                 khac        3\n",
       "\n",
       "[1583 rows x 3 columns]"
      ]
     },
     "execution_count": 71,
     "metadata": {},
     "output_type": "execute_result"
    }
   ],
   "source": [
    "df.groupby(['date_column_cleaned','product_cat']).count()['product'].reset_index()"
   ]
  },
  {
   "cell_type": "code",
   "execution_count": null,
   "metadata": {},
   "outputs": [],
   "source": []
  }
 ],
 "metadata": {
  "kernelspec": {
   "display_name": "base",
   "language": "python",
   "name": "python3"
  },
  "language_info": {
   "codemirror_mode": {
    "name": "ipython",
    "version": 3
   },
   "file_extension": ".py",
   "mimetype": "text/x-python",
   "name": "python",
   "nbconvert_exporter": "python",
   "pygments_lexer": "ipython3",
   "version": "3.9.7"
  }
 },
 "nbformat": 4,
 "nbformat_minor": 2
}
